{
 "cells": [
  {
   "cell_type": "markdown",
   "metadata": {},
   "source": [
    "<H1> KAGGLE DATA - \"Airplane Crashes and Fatalities Since 1908\" </H1>\n",
    "\n",
    "<b> This ipython notebook provides the Analysis of the public dataset: \"Airplane Crashes and Fatalities Since 1908\" (Full history of airplane crashes throughout the world, from 1908-present) hosted by Open Data by Socrata available in Kaggle.com \n",
    "\n",
    "It answers various questions like:\n",
    "\n",
    "Yearly how many planes crashed? how many people were on board? how many survived? how many died?\n",
    "\n",
    "Highest number of crashes by operator and Type of aircrafts.\n",
    "\n",
    "‘Summary’ field has the details about the crashes. Find the reasons of the crash and categorize them in different clusters i.e Fire, shot down, weather (for the ‘Blanks’ in the data category can be UNKNOWN) you are open to make clusters of your choice but they should not exceed 7.\n",
    "\n",
    "Find the number of crashed aircrafts and number of deaths against each category from above step.\n",
    "\n",
    "Find any interesting trends/behaviors that you encounter when you analyze the dataset. </b>\n",
    "\n"
   ]
  },
  {
   "cell_type": "code",
   "execution_count": 57,
   "metadata": {
    "collapsed": true
   },
   "outputs": [],
   "source": [
    "import pandas as pd\n",
    "import matplotlib.pyplot as plt\n",
    "%matplotlib inline\n",
    "import numpy as np"
   ]
  },
  {
   "cell_type": "code",
   "execution_count": 63,
   "metadata": {
    "collapsed": true
   },
   "outputs": [],
   "source": [
    "df = pd.read_csv(\"Airplane.csv\")"
   ]
  },
  {
   "cell_type": "markdown",
   "metadata": {},
   "source": [
    "<b> Data Cleaning: </b>"
   ]
  },
  {
   "cell_type": "code",
   "execution_count": 59,
   "metadata": {
    "collapsed": false
   },
   "outputs": [
    {
     "data": {
      "text/html": [
       "<div>\n",
       "<table border=\"1\" class=\"dataframe\">\n",
       "  <thead>\n",
       "    <tr style=\"text-align: right;\">\n",
       "      <th></th>\n",
       "      <th>Date</th>\n",
       "      <th>Time</th>\n",
       "      <th>Location</th>\n",
       "      <th>Operator</th>\n",
       "      <th>Flight #</th>\n",
       "      <th>Route</th>\n",
       "      <th>Type</th>\n",
       "      <th>Registration</th>\n",
       "      <th>cn/In</th>\n",
       "      <th>Aboard</th>\n",
       "      <th>Fatalities</th>\n",
       "      <th>Ground</th>\n",
       "      <th>Summary</th>\n",
       "    </tr>\n",
       "  </thead>\n",
       "  <tbody>\n",
       "    <tr>\n",
       "      <th>0</th>\n",
       "      <td>9/17/1908</td>\n",
       "      <td>17:18</td>\n",
       "      <td>Fort Myer, Virginia</td>\n",
       "      <td>Military - U.S. Army</td>\n",
       "      <td>NaN</td>\n",
       "      <td>Demonstration</td>\n",
       "      <td>Wright Flyer III</td>\n",
       "      <td>NaN</td>\n",
       "      <td>1</td>\n",
       "      <td>2.0</td>\n",
       "      <td>1.0</td>\n",
       "      <td>0.0</td>\n",
       "      <td>During a demonstration flight, a U.S. Army fly...</td>\n",
       "    </tr>\n",
       "    <tr>\n",
       "      <th>1</th>\n",
       "      <td>7/12/1912</td>\n",
       "      <td>6:30</td>\n",
       "      <td>AtlantiCity, New Jersey</td>\n",
       "      <td>Military - U.S. Navy</td>\n",
       "      <td>NaN</td>\n",
       "      <td>Test flight</td>\n",
       "      <td>Dirigible</td>\n",
       "      <td>NaN</td>\n",
       "      <td>NaN</td>\n",
       "      <td>5.0</td>\n",
       "      <td>5.0</td>\n",
       "      <td>0.0</td>\n",
       "      <td>First U.S. dirigible Akron exploded just offsh...</td>\n",
       "    </tr>\n",
       "    <tr>\n",
       "      <th>2</th>\n",
       "      <td>8/6/1913</td>\n",
       "      <td>NaN</td>\n",
       "      <td>Victoria, British Columbia, Canada</td>\n",
       "      <td>Private</td>\n",
       "      <td>-</td>\n",
       "      <td>NaN</td>\n",
       "      <td>Curtiss seaplane</td>\n",
       "      <td>NaN</td>\n",
       "      <td>NaN</td>\n",
       "      <td>1.0</td>\n",
       "      <td>1.0</td>\n",
       "      <td>0.0</td>\n",
       "      <td>The first fatal airplane accident in Canada oc...</td>\n",
       "    </tr>\n",
       "    <tr>\n",
       "      <th>3</th>\n",
       "      <td>9/9/1913</td>\n",
       "      <td>18:30</td>\n",
       "      <td>Over the North Sea</td>\n",
       "      <td>Military - German Navy</td>\n",
       "      <td>NaN</td>\n",
       "      <td>NaN</td>\n",
       "      <td>Zeppelin L-1 (airship)</td>\n",
       "      <td>NaN</td>\n",
       "      <td>NaN</td>\n",
       "      <td>20.0</td>\n",
       "      <td>14.0</td>\n",
       "      <td>0.0</td>\n",
       "      <td>The airship flew into a thunderstorm and encou...</td>\n",
       "    </tr>\n",
       "    <tr>\n",
       "      <th>4</th>\n",
       "      <td>10/17/1913</td>\n",
       "      <td>10:30</td>\n",
       "      <td>Near Johannisthal, Germany</td>\n",
       "      <td>Military - German Navy</td>\n",
       "      <td>NaN</td>\n",
       "      <td>NaN</td>\n",
       "      <td>Zeppelin L-2 (airship)</td>\n",
       "      <td>NaN</td>\n",
       "      <td>NaN</td>\n",
       "      <td>30.0</td>\n",
       "      <td>30.0</td>\n",
       "      <td>0.0</td>\n",
       "      <td>Hydrogen gas which was being vented was sucked...</td>\n",
       "    </tr>\n",
       "  </tbody>\n",
       "</table>\n",
       "</div>"
      ],
      "text/plain": [
       "         Date   Time                            Location  \\\n",
       "0   9/17/1908  17:18                 Fort Myer, Virginia   \n",
       "1   7/12/1912   6:30             AtlantiCity, New Jersey   \n",
       "2    8/6/1913    NaN  Victoria, British Columbia, Canada   \n",
       "3    9/9/1913  18:30                  Over the North Sea   \n",
       "4  10/17/1913  10:30          Near Johannisthal, Germany   \n",
       "\n",
       "                 Operator Flight #          Route                    Type  \\\n",
       "0    Military - U.S. Army      NaN  Demonstration        Wright Flyer III   \n",
       "1    Military - U.S. Navy      NaN    Test flight               Dirigible   \n",
       "2                 Private        -            NaN        Curtiss seaplane   \n",
       "3  Military - German Navy      NaN            NaN  Zeppelin L-1 (airship)   \n",
       "4  Military - German Navy      NaN            NaN  Zeppelin L-2 (airship)   \n",
       "\n",
       "  Registration cn/In  Aboard  Fatalities  Ground  \\\n",
       "0          NaN     1     2.0         1.0     0.0   \n",
       "1          NaN   NaN     5.0         5.0     0.0   \n",
       "2          NaN   NaN     1.0         1.0     0.0   \n",
       "3          NaN   NaN    20.0        14.0     0.0   \n",
       "4          NaN   NaN    30.0        30.0     0.0   \n",
       "\n",
       "                                             Summary  \n",
       "0  During a demonstration flight, a U.S. Army fly...  \n",
       "1  First U.S. dirigible Akron exploded just offsh...  \n",
       "2  The first fatal airplane accident in Canada oc...  \n",
       "3  The airship flew into a thunderstorm and encou...  \n",
       "4  Hydrogen gas which was being vented was sucked...  "
      ]
     },
     "execution_count": 59,
     "metadata": {},
     "output_type": "execute_result"
    }
   ],
   "source": [
    "df.head()"
   ]
  },
  {
   "cell_type": "code",
   "execution_count": 60,
   "metadata": {
    "collapsed": false
   },
   "outputs": [
    {
     "name": "stderr",
     "output_type": "stream",
     "text": [
      "C:\\Users\\harini.devulapalli\\AppData\\Local\\Continuum\\Anaconda2\\lib\\site-packages\\numpy\\lib\\function_base.py:3834: RuntimeWarning: Invalid value encountered in percentile\n",
      "  RuntimeWarning)\n"
     ]
    },
    {
     "data": {
      "text/html": [
       "<div>\n",
       "<table border=\"1\" class=\"dataframe\">\n",
       "  <thead>\n",
       "    <tr style=\"text-align: right;\">\n",
       "      <th></th>\n",
       "      <th>Aboard</th>\n",
       "      <th>Fatalities</th>\n",
       "      <th>Ground</th>\n",
       "    </tr>\n",
       "  </thead>\n",
       "  <tbody>\n",
       "    <tr>\n",
       "      <th>count</th>\n",
       "      <td>5246.000000</td>\n",
       "      <td>5256.000000</td>\n",
       "      <td>5246.000000</td>\n",
       "    </tr>\n",
       "    <tr>\n",
       "      <th>mean</th>\n",
       "      <td>27.554518</td>\n",
       "      <td>20.068303</td>\n",
       "      <td>1.608845</td>\n",
       "    </tr>\n",
       "    <tr>\n",
       "      <th>std</th>\n",
       "      <td>43.076711</td>\n",
       "      <td>33.199952</td>\n",
       "      <td>53.987827</td>\n",
       "    </tr>\n",
       "    <tr>\n",
       "      <th>min</th>\n",
       "      <td>0.000000</td>\n",
       "      <td>0.000000</td>\n",
       "      <td>0.000000</td>\n",
       "    </tr>\n",
       "    <tr>\n",
       "      <th>25%</th>\n",
       "      <td>NaN</td>\n",
       "      <td>NaN</td>\n",
       "      <td>NaN</td>\n",
       "    </tr>\n",
       "    <tr>\n",
       "      <th>50%</th>\n",
       "      <td>NaN</td>\n",
       "      <td>NaN</td>\n",
       "      <td>NaN</td>\n",
       "    </tr>\n",
       "    <tr>\n",
       "      <th>75%</th>\n",
       "      <td>NaN</td>\n",
       "      <td>NaN</td>\n",
       "      <td>NaN</td>\n",
       "    </tr>\n",
       "    <tr>\n",
       "      <th>max</th>\n",
       "      <td>644.000000</td>\n",
       "      <td>583.000000</td>\n",
       "      <td>2750.000000</td>\n",
       "    </tr>\n",
       "  </tbody>\n",
       "</table>\n",
       "</div>"
      ],
      "text/plain": [
       "            Aboard   Fatalities       Ground\n",
       "count  5246.000000  5256.000000  5246.000000\n",
       "mean     27.554518    20.068303     1.608845\n",
       "std      43.076711    33.199952    53.987827\n",
       "min       0.000000     0.000000     0.000000\n",
       "25%            NaN          NaN          NaN\n",
       "50%            NaN          NaN          NaN\n",
       "75%            NaN          NaN          NaN\n",
       "max     644.000000   583.000000  2750.000000"
      ]
     },
     "execution_count": 60,
     "metadata": {},
     "output_type": "execute_result"
    }
   ],
   "source": [
    "df.describe()"
   ]
  },
  {
   "cell_type": "code",
   "execution_count": 61,
   "metadata": {
    "collapsed": false
   },
   "outputs": [],
   "source": [
    "df.fillna(0, axis=1, inplace = True)"
   ]
  },
  {
   "cell_type": "code",
   "execution_count": 70,
   "metadata": {
    "collapsed": false
   },
   "outputs": [],
   "source": [
    "df['year'] = pd.DatetimeIndex(df['Date']).year\n",
    "df['month'] = pd.DatetimeIndex(df['Date']).month"
   ]
  },
  {
   "cell_type": "markdown",
   "metadata": {},
   "source": [
    "<b> 1) Yearly how many planes crashed? </b>"
   ]
  },
  {
   "cell_type": "code",
   "execution_count": 64,
   "metadata": {
    "collapsed": true
   },
   "outputs": [],
   "source": [
    "dates_only = df[['Date']]\n",
    "grouped = dates_only.groupby(lambda x: dates_only['Date'][x].split('/')[2]).count()"
   ]
  },
  {
   "cell_type": "code",
   "execution_count": 68,
   "metadata": {
    "collapsed": false
   },
   "outputs": [
    {
     "data": {
      "text/html": [
       "<div>\n",
       "<table border=\"1\" class=\"dataframe\">\n",
       "  <thead>\n",
       "    <tr style=\"text-align: right;\">\n",
       "      <th></th>\n",
       "      <th>Date</th>\n",
       "    </tr>\n",
       "  </thead>\n",
       "  <tbody>\n",
       "    <tr>\n",
       "      <th>2005</th>\n",
       "      <td>51</td>\n",
       "    </tr>\n",
       "    <tr>\n",
       "      <th>2006</th>\n",
       "      <td>49</td>\n",
       "    </tr>\n",
       "    <tr>\n",
       "      <th>2007</th>\n",
       "      <td>54</td>\n",
       "    </tr>\n",
       "    <tr>\n",
       "      <th>2008</th>\n",
       "      <td>62</td>\n",
       "    </tr>\n",
       "    <tr>\n",
       "      <th>2009</th>\n",
       "      <td>24</td>\n",
       "    </tr>\n",
       "  </tbody>\n",
       "</table>\n",
       "</div>"
      ],
      "text/plain": [
       "      Date\n",
       "2005    51\n",
       "2006    49\n",
       "2007    54\n",
       "2008    62\n",
       "2009    24"
      ]
     },
     "execution_count": 68,
     "metadata": {},
     "output_type": "execute_result"
    }
   ],
   "source": [
    "grouped.tail(5)"
   ]
  },
  {
   "cell_type": "code",
   "execution_count": 66,
   "metadata": {
    "collapsed": false
   },
   "outputs": [
    {
     "data": {
      "text/plain": [
       "<matplotlib.legend.Legend at 0x11f43710>"
      ]
     },
     "execution_count": 66,
     "metadata": {},
     "output_type": "execute_result"
    },
    {
     "data": {
      "image/png": "[encoded data removed]",
      "text/plain": [
       "<matplotlib.figure.Figure at 0x43f4668>"
      ]
     },
     "metadata": {},
     "output_type": "display_data"
    }
   ],
   "source": [
    "plot_year = grouped.plot(kind='bar', grid=True, by=grouped, title=\"Plane crashed per year\", figsize=(16, 8 ), )\n",
    "plot_year.set_ylabel(\"Planes crashed\")\n",
    "plot_year.set_xlabel(\"Years\")\n",
    "plot_year.legend([\"Years\"])"
   ]
  },
  {
   "cell_type": "markdown",
   "metadata": {},
   "source": [
    "<b> 2) how many died? </b>"
   ]
  },
  {
   "cell_type": "code",
   "execution_count": 78,
   "metadata": {
    "collapsed": false
   },
   "outputs": [
    {
     "data": {
      "text/plain": [
       "<matplotlib.legend.Legend at 0xa80e898>"
      ]
     },
     "execution_count": 78,
     "metadata": {},
     "output_type": "execute_result"
    },
    {
     "data": {
      "image/png": "[encoded data removed]",
      "text/plain": [
       "<matplotlib.figure.Figure at 0x1441a748>"
      ]
     },
     "metadata": {},
     "output_type": "display_data"
    }
   ],
   "source": [
    "FYear  = df[u'Fatalities'].groupby(df['year'])\n",
    "Total_Fyear =FYear.sum()\n",
    "plt.figure(figsize=(20,10))\n",
    "my_plot = Total_Fyear.plot(kind='bar')\n",
    "plt.title(\"Number of Deaths each Year\")\n",
    "my_plot.set_ylabel(\"Fatalities\")\n",
    "my_plot.set_xlabel(\"Years\")\n",
    "my_plot.legend([\"Sum\"])"
   ]
  },
  {
   "cell_type": "markdown",
   "metadata": {},
   "source": [
    "<b> how many people were on board? </b>"
   ]
  },
  {
   "cell_type": "code",
   "execution_count": 77,
   "metadata": {
    "collapsed": false
   },
   "outputs": [
    {
     "data": {
      "text/plain": [
       "<matplotlib.legend.Legend at 0xc99b828>"
      ]
     },
     "execution_count": 77,
     "metadata": {},
     "output_type": "execute_result"
    },
    {
     "data": {
      "image/png": "[encoded data removed]",
      "text/plain": [
       "<matplotlib.figure.Figure at 0xc989160>"
      ]
     },
     "metadata": {},
     "output_type": "display_data"
    }
   ],
   "source": [
    "AYear  = df[u'Aboard'].groupby(df['year'])\n",
    "Total_Ayear =AYear.sum()\n",
    "plt.figure(figsize=(20,10))\n",
    "my_plot = Total_Ayear.plot(kind='bar')\n",
    "plt.title(\"Number of Aboards each Year\")\n",
    "my_plot.set_ylabel(\"Aboard\")\n",
    "my_plot.set_xlabel(\"Years\")\n",
    "my_plot.legend([\"Sum\"])"
   ]
  },
  {
   "cell_type": "code",
   "execution_count": 76,
   "metadata": {
    "collapsed": false
   },
   "outputs": [
    {
     "data": {
      "text/plain": [
       "<matplotlib.legend.Legend at 0x158ccb38>"
      ]
     },
     "execution_count": 76,
     "metadata": {},
     "output_type": "execute_result"
    },
    {
     "data": {
      "image/png": "[encoded data removed]",
      "text/plain": [
       "<matplotlib.figure.Figure at 0x158dc630>"
      ]
     },
     "metadata": {},
     "output_type": "display_data"
    }
   ],
   "source": [
    "df[u'Survived'] = df[u'Aboard'] -  df[u'Fatalities']\n",
    "GYear  = df[u'Survived'].groupby(df['year'])\n",
    "Total_Gyear =GYear.sum()\n",
    "plt.figure(figsize=(20,10))\n",
    "my_plot = Total_Gyear.plot(kind='bar')\n",
    "plt.title(\"Number of Survived each Year\")\n",
    "my_plot.set_ylabel(\"Survived\")\n",
    "my_plot.set_xlabel(\"Years\")\n",
    "my_plot.legend([\"Sum\"])"
   ]
  },
  {
   "cell_type": "markdown",
   "metadata": {},
   "source": [
    "<b> Pearson Test for Linear Correlation b/w Aboard and Fatalities. </b>"
   ]
  },
  {
   "cell_type": "code",
   "execution_count": 11,
   "metadata": {
    "collapsed": false
   },
   "outputs": [
    {
     "data": {
      "text/plain": [
       "(0.75692422872266041, 0.0)"
      ]
     },
     "execution_count": 11,
     "metadata": {},
     "output_type": "execute_result"
    }
   ],
   "source": [
    "from scipy.stats import pearsonr\n",
    "pearsonr(df['Aboard'],df['Fatalities'])"
   ]
  },
  {
   "cell_type": "markdown",
   "metadata": {},
   "source": [
    "<b> Results of Pearson's Test: This test is conducted to check for linear correlation between abraod and Fatalities!\n",
    "From the 1st value in tuple we can see that there is a positive correlation because the value is postive and this is called Pearson's Coeeficient value. If the Coeff value is betweeen 0 and 1 then there is a postive corr between the varaibles and if its 0 and -1 then the relation is negative! Also the p-value is far greater than 0.005 hence it clearly justifies a postive correlation </b>"
   ]
  },
  {
   "cell_type": "markdown",
   "metadata": {},
   "source": [
    "<b> Pearson Test for Linear Correlation b/w Survived and Fatalities. </b>"
   ]
  },
  {
   "cell_type": "code",
   "execution_count": 12,
   "metadata": {
    "collapsed": false
   },
   "outputs": [
    {
     "data": {
      "text/plain": [
       "(-0.021707843303172044, 0.11516680501957141)"
      ]
     },
     "execution_count": 12,
     "metadata": {},
     "output_type": "execute_result"
    }
   ],
   "source": [
    "from scipy.stats import pearsonr\n",
    "pearsonr(df[u'Fatalities'],df[u'Survived'])"
   ]
  },
  {
   "cell_type": "markdown",
   "metadata": {},
   "source": [
    "<b> Operators and the number of deaths related to them </b>"
   ]
  },
  {
   "cell_type": "code",
   "execution_count": 84,
   "metadata": {
    "collapsed": false
   },
   "outputs": [
    {
     "name": "stderr",
     "output_type": "stream",
     "text": [
      "C:\\Users\\harini.devulapalli\\AppData\\Local\\Continuum\\Anaconda2\\lib\\site-packages\\ipykernel\\__main__.py:4: FutureWarning: sort(columns=....) is deprecated, use sort_values(by=.....)\n"
     ]
    },
    {
     "data": {
      "text/html": [
       "<div>\n",
       "<table border=\"1\" class=\"dataframe\">\n",
       "  <thead>\n",
       "    <tr style=\"text-align: right;\">\n",
       "      <th></th>\n",
       "      <th>Fatalities</th>\n",
       "    </tr>\n",
       "    <tr>\n",
       "      <th>Operator</th>\n",
       "      <th></th>\n",
       "    </tr>\n",
       "  </thead>\n",
       "  <tbody>\n",
       "    <tr>\n",
       "      <th>Aeroflot</th>\n",
       "      <td>7156.0</td>\n",
       "    </tr>\n",
       "    <tr>\n",
       "      <th>Military - U.S. Air Force</th>\n",
       "      <td>3717.0</td>\n",
       "    </tr>\n",
       "    <tr>\n",
       "      <th>Air France</th>\n",
       "      <td>1734.0</td>\n",
       "    </tr>\n",
       "    <tr>\n",
       "      <th>American Airlines</th>\n",
       "      <td>1421.0</td>\n",
       "    </tr>\n",
       "    <tr>\n",
       "      <th>Pan American World Airways</th>\n",
       "      <td>1302.0</td>\n",
       "    </tr>\n",
       "  </tbody>\n",
       "</table>\n",
       "</div>"
      ],
      "text/plain": [
       "                            Fatalities\n",
       "Operator                              \n",
       "Aeroflot                        7156.0\n",
       "Military - U.S. Air Force       3717.0\n",
       "Air France                      1734.0\n",
       "American Airlines               1421.0\n",
       "Pan American World Airways      1302.0"
      ]
     },
     "execution_count": 84,
     "metadata": {},
     "output_type": "execute_result"
    }
   ],
   "source": [
    "FOp  = df[u'Fatalities'].groupby(df[u'Operator'])\n",
    "Total_FOp =FOp.sum()\n",
    "Total_FOp = pd.DataFrame(Total_FOp)\n",
    "Dangerous_Operators=Total_FOp.sort('Fatalities', axis=0, ascending =False)\n",
    "Dangerous_Operators.head()"
   ]
  },
  {
   "cell_type": "markdown",
   "metadata": {},
   "source": [
    "<b> Types and the number of deaths related to them </b>"
   ]
  },
  {
   "cell_type": "code",
   "execution_count": 14,
   "metadata": {
    "collapsed": false
   },
   "outputs": [
    {
     "name": "stderr",
     "output_type": "stream",
     "text": [
      "C:\\Users\\harini.devulapalli\\AppData\\Local\\Continuum\\Anaconda2\\lib\\site-packages\\ipykernel\\__main__.py:4: FutureWarning: sort(columns=....) is deprecated, use sort_values(by=.....)\n"
     ]
    },
    {
     "data": {
      "text/html": [
       "<div>\n",
       "<table border=\"1\" class=\"dataframe\">\n",
       "  <thead>\n",
       "    <tr style=\"text-align: right;\">\n",
       "      <th></th>\n",
       "      <th>Fatalities</th>\n",
       "    </tr>\n",
       "    <tr>\n",
       "      <th>Type</th>\n",
       "      <th></th>\n",
       "    </tr>\n",
       "  </thead>\n",
       "  <tbody>\n",
       "    <tr>\n",
       "      <th>Douglas DC-3</th>\n",
       "      <td>4793.0</td>\n",
       "    </tr>\n",
       "    <tr>\n",
       "      <th>Antonov AN-26</th>\n",
       "      <td>1068.0</td>\n",
       "    </tr>\n",
       "    <tr>\n",
       "      <th>Douglas DC-6B</th>\n",
       "      <td>1055.0</td>\n",
       "    </tr>\n",
       "    <tr>\n",
       "      <th>Douglas C-47</th>\n",
       "      <td>1046.0</td>\n",
       "    </tr>\n",
       "    <tr>\n",
       "      <th>McDonnell Douglas DC-9-32</th>\n",
       "      <td>951.0</td>\n",
       "    </tr>\n",
       "  </tbody>\n",
       "</table>\n",
       "</div>"
      ],
      "text/plain": [
       "                           Fatalities\n",
       "Type                                 \n",
       "Douglas DC-3                   4793.0\n",
       "Antonov AN-26                  1068.0\n",
       "Douglas DC-6B                  1055.0\n",
       "Douglas C-47                   1046.0\n",
       "McDonnell Douglas DC-9-32       951.0"
      ]
     },
     "execution_count": 14,
     "metadata": {},
     "output_type": "execute_result"
    }
   ],
   "source": [
    "FTy  = df[u'Fatalities'].groupby(df[u'Type'])\n",
    "Total_FTy =FTy.sum()\n",
    "Total_FTy = pd.DataFrame(Total_FTy)\n",
    "Dangerous_Types=Total_FTy.sort('Fatalities', axis=0, ascending =False)\n",
    "Dangerous_Types.head()"
   ]
  },
  {
   "cell_type": "markdown",
   "metadata": {},
   "source": [
    "<b> Cluster Analysis:\n",
    "\n",
    "‘Summary’ field has the details about the crashes. Find the reasons of the crash and categorize them in different clusters i.e Fire, shot down, weather (for the ‘Blanks’ in the data category can be UNKNOWN) you are open to make clusters of your choice but they should not exceed 7.</b>"
   ]
  },
  {
   "cell_type": "code",
   "execution_count": 86,
   "metadata": {
    "collapsed": false
   },
   "outputs": [],
   "source": [
    "data = pd.read_csv(\"3-Airplane_Crashes_Since_1908.txt\" ,sep=',')\n",
    "data.fillna(0, axis=1, inplace = True)\n",
    "data[\"Summary\"].replace(0,\"Unknown\" , inplace=True)\n",
    "documents = data['Summary'].unique()\n",
    "documents = documents.tolist()"
   ]
  },
  {
   "cell_type": "code",
   "execution_count": 87,
   "metadata": {
    "collapsed": true
   },
   "outputs": [],
   "source": [
    "from sklearn.feature_extraction.text import TfidfVectorizer\n",
    "from sklearn.cluster import KMeans\n",
    "from sklearn.metrics import adjusted_rand_score\n",
    "vectorizer = TfidfVectorizer(stop_words='english')\n",
    "X = vectorizer.fit_transform(documents)"
   ]
  },
  {
   "cell_type": "code",
   "execution_count": 88,
   "metadata": {
    "collapsed": false
   },
   "outputs": [
    {
     "data": {
      "text/plain": [
       "KMeans(copy_x=True, init='k-means++', max_iter=100, n_clusters=10, n_init=1,\n",
       "    n_jobs=1, precompute_distances='auto', random_state=None, tol=0.0001,\n",
       "    verbose=0)"
      ]
     },
     "execution_count": 88,
     "metadata": {},
     "output_type": "execute_result"
    }
   ],
   "source": [
    "true_k = 10\n",
    "model = KMeans(n_clusters=true_k, init='k-means++', max_iter=100, n_init=1)\n",
    "model.fit(X)"
   ]
  },
  {
   "cell_type": "code",
   "execution_count": 89,
   "metadata": {
    "collapsed": false
   },
   "outputs": [
    {
     "name": "stdout",
     "output_type": "stream",
     "text": [
      "Top terms per cluster:\n",
      "Cluster 0:  landing  emergency  runway  crashed  plane  attempt  gear  aircraft  make  engine\n",
      "Cluster 1:  crashed  aircraft  plane  mountain  flight  pilot  ft  shot  struck  killed\n",
      "Cluster 2:  weather  conditions  vfr  adverse  flight  continued  poor  mountain  pilot  crashed\n",
      "Cluster 3:  taking  shortly  crashed  minutes  engine  plane  aircraft  airport  lost  failure\n",
      "Cluster 4:  aircraft  control  engine  loss  failure  flight  wing  left  plane  pilot\n",
      "Cluster 5:  land  attempting  crashed  plane  runway  fog  airport  struck  trees  heavy\n",
      "Cluster 6:  en  route  crashed  disappeared  mountain  plane  cargo  mountains  aircraft  wreckage\n",
      "Cluster 7:  approach  runway  short  crashed  aircraft  pilot  crew  final  fog  altitude\n",
      "Cluster 8:  cargo  plane  crashed  struck  runway  mountain  approach  altitude  lost  engine\n",
      "Cluster 9:  takeoff  engine  crashed  failure  aircraft  shortly  plane  runway  failed  experiencing\n"
     ]
    }
   ],
   "source": [
    "print(\"Top terms per cluster:\")\n",
    "order_centroids = model.cluster_centers_.argsort()[:, ::-1]\n",
    "terms = vectorizer.get_feature_names()\n",
    "for i in range(true_k):\n",
    "    print \"Cluster %d:\" % i,\n",
    "    for ind in order_centroids[i, :10]:\n",
    "        print ' %s' % terms[ind],\n",
    "    print"
   ]
  },
  {
   "cell_type": "markdown",
   "metadata": {},
   "source": [
    "<b> Find the number of crashed aircrafts and number of deaths against each category from above step </b>"
   ]
  },
  {
   "cell_type": "code",
   "execution_count": 82,
   "metadata": {
    "collapsed": false
   },
   "outputs": [
    {
     "name": "stdout",
     "output_type": "stream",
     "text": [
      "causes not avaiable: 5268\n",
      "unindentified causes: 3709\n",
      "('engine failure', 420)\n",
      "('poor weather', 416)\n",
      "('stall', 271)\n",
      "('pilot error', 152)\n",
      "('shot down', 133)\n",
      "('turbulence', 117)\n",
      "('on fire', 116)\n",
      "('fuel exhaustion', 71)\n",
      "('electrical problem', 41)\n",
      "('structure failure', 39)\n",
      "('terrorism', 12)\n"
     ]
    },
    {
     "data": {
      "image/png": "[encoded data removed]",
      "text/plain": [
       "<matplotlib.figure.Figure at 0x1572bfd0>"
      ]
     },
     "metadata": {},
     "output_type": "display_data"
    }
   ],
   "source": [
    "import seaborn as sns\n",
    "\n",
    "import re\n",
    "import operator\n",
    "failures = {\n",
    "    'pilot error': '(pilot|crew) (error|fatigue)',\n",
    "    'engine failure': 'engine.*(fire|fail)',\n",
    "    'structure failure': '(structural fail)|(fuel leak)|(langing gear)',\n",
    "    'electrical problem': 'electrical',\n",
    "    'poor weather': '((poor|bad).*(weather|visibility)|thunderstorm)',\n",
    "    'stall': 'stall',\n",
    "    'on fire': '(caught fire)|(caught on fire)',\n",
    "    'turbulence': 'turbulence',\n",
    "    'fuel exhaustion': '(out of fuel)|(fuel.*exhaust)',\n",
    "    'terrorism': 'terrorist|terrorism',\n",
    "    'shot down': 'shot down',\n",
    "}\n",
    "\n",
    "failure_counts = {'other':0}\n",
    "\n",
    "for s in data.Summary.dropna():\n",
    "    other = True\n",
    "    for failure, exp in failures.items():\n",
    "        if re.search(exp, s.lower()):\n",
    "            other = False\n",
    "            if failure in failure_counts:\n",
    "                failure_counts[failure] += 1\n",
    "            else:\n",
    "                failure_counts[failure] = 1\n",
    "    if other:\n",
    "        failure_counts['other'] += 1\n",
    "\n",
    "nan_counts = len(data.Summary.isnull())\n",
    "print('causes not avaiable: %d' % nan_counts)\n",
    "print('unindentified causes: %d' % failure_counts['other'])\n",
    "\n",
    "del failure_counts['other']\n",
    "\n",
    "sortedcauses = sorted(failure_counts.items(), key=operator.itemgetter(1), reverse=True)\n",
    "for k, v in sortedcauses:\n",
    "    print(k, v)\n",
    "\n",
    "plt.figure(figsize=(14, 8))\n",
    "x, y = zip(*sortedcauses)\n",
    "sns.barplot(x=x, y=y)\n",
    "plt.xticks(rotation=25, horizontalalignment='right')\n",
    "plt.show()"
   ]
  },
  {
   "cell_type": "markdown",
   "metadata": {},
   "source": [
    "<b> Text Analysis using LDA </b>"
   ]
  },
  {
   "cell_type": "code",
   "execution_count": 41,
   "metadata": {
    "collapsed": true
   },
   "outputs": [],
   "source": [
    "summary = data['Summary'].tolist()\n",
    "punctuation = ['.', ',', ':']\n",
    "texts = []\n",
    "\n",
    "for text in summary:\n",
    "    cleaned_text = str(text).lower()   \n",
    "    for mark in punctuation:\n",
    "        cleaned_text = cleaned_text.replace(mark, '')       \n",
    "    texts.append(cleaned_text.split())"
   ]
  },
  {
   "cell_type": "code",
   "execution_count": 42,
   "metadata": {
    "collapsed": false
   },
   "outputs": [],
   "source": [
    "from gensim import corpora, models\n",
    "\n",
    "from collections import Counter\n",
    "dictionary = corpora.Dictionary(texts)"
   ]
  },
  {
   "cell_type": "code",
   "execution_count": 43,
   "metadata": {
    "collapsed": true
   },
   "outputs": [],
   "source": [
    "word_list = []\n",
    "for key, value in dictionary.dfs.items():\n",
    "    if value > 100:\n",
    "        word_list.append(key)"
   ]
  },
  {
   "cell_type": "code",
   "execution_count": 44,
   "metadata": {
    "collapsed": true
   },
   "outputs": [],
   "source": [
    "\n",
    "dictionary.filter_tokens(word_list)\n",
    "corpus = [dictionary.doc2bow(text) for text in texts]"
   ]
  },
  {
   "cell_type": "code",
   "execution_count": 45,
   "metadata": {
    "collapsed": true
   },
   "outputs": [],
   "source": [
    "np.random.seed(76543)\n",
    "lda = models.LdaModel(corpus, num_topics=10, id2word=dictionary, passes=5)"
   ]
  },
  {
   "cell_type": "code",
   "execution_count": 47,
   "metadata": {
    "collapsed": false
   },
   "outputs": [
    {
     "name": "stdout",
     "output_type": "stream",
     "text": [
      "Topic 0:\n",
      "door\n",
      "problems\n",
      "spatial\n",
      "disorientation\n",
      "rate\n",
      "holding\n",
      "officer\n",
      "forest\n",
      "pattern\n",
      "maintenance\n",
      "lake\n",
      "autopilot\n",
      "descending\n",
      "thrust\n",
      "missile\n",
      "()\n",
      "Topic 1:\n",
      "went\n",
      "dive\n",
      "steep\n",
      "1\n",
      "positioning\n",
      "planning\n",
      "weight\n",
      "rebels\n",
      "entered\n",
      "passengers\n",
      "building\n",
      "possible\n",
      "maximum\n",
      "use\n",
      "rotor\n",
      "()\n",
      "Topic 2:\n",
      "windshear\n",
      "thunderstorm\n",
      "missed\n",
      "experiencing\n",
      "management\n",
      "wooded\n",
      "remote\n",
      "investigation\n",
      "skidded\n",
      "light\n",
      "tail\n",
      "oil\n",
      "rotor\n",
      "destroyed\n",
      "mountainside\n",
      "()\n",
      "Topic 3:\n",
      "propeller\n",
      "clearance\n",
      "impacted\n",
      "side\n",
      "maintenance\n",
      "following\n",
      "nose\n",
      "attitude\n",
      "fence\n",
      "ditched\n",
      "mountainous\n",
      "ocean\n",
      "fly\n",
      "winds\n",
      "just\n",
      "()\n",
      "Topic 4:\n",
      "river\n",
      "km\n",
      "without\n",
      "disappeared\n",
      "atc\n",
      "they\n",
      "their\n",
      "radar\n",
      "equipment\n",
      "30\n",
      "decided\n",
      "5\n",
      "south\n",
      "adequate\n",
      "later\n",
      "()\n",
      "Topic 5:\n",
      "carrying\n",
      "gain\n",
      "thrust\n",
      "included\n",
      "jungle\n",
      "subsequent\n",
      "returning\n",
      "device\n",
      "detonation\n",
      "end\n",
      "another\n",
      "radar\n",
      "departure\n",
      "clouds\n",
      "cabin\n",
      "()\n",
      "Topic 6:\n",
      "mile\n",
      "exploded\n",
      "they\n",
      "follow\n",
      "cockpit\n",
      "international\n",
      "jet\n",
      "side\n",
      "airliner\n",
      "operating\n",
      "aborted\n",
      "three\n",
      "end\n",
      "been\n",
      "could\n",
      "()\n",
      "Topic 7:\n",
      "later\n",
      "they\n",
      "four\n",
      "tower\n",
      "tried\n",
      "copilot\n",
      "meteorological\n",
      "carrying\n",
      "midair\n",
      "cessna\n",
      "passengers\n",
      "between\n",
      "overloaded\n",
      "five\n",
      "reaching\n",
      "()\n",
      "Topic 8:\n",
      "stall\n",
      "icing\n",
      "airspeed\n",
      "ice\n",
      "rudder\n",
      "bank\n",
      "warning\n",
      "snow\n",
      "until\n",
      "nose\n",
      "national\n",
      "aviation\n",
      "flaps\n",
      "entered\n",
      "rolled\n",
      "()\n",
      "Topic 9:\n",
      "mountainous\n",
      "overran\n",
      "center\n",
      "rest\n",
      "second\n",
      "military\n",
      "avoid\n",
      "came\n",
      "meteorological\n",
      "other\n",
      "imc\n",
      "gravity\n",
      "lines\n",
      "along\n",
      "see\n",
      "()\n"
     ]
    }
   ],
   "source": [
    "\n",
    "topics = lda.show_topics(num_topics=10, num_words=15, formatted=False)\n",
    "for topic in topics:\n",
    "    print('Topic %d:' % topic[0])\n",
    "    for pair in topic[1]:\n",
    "        print(pair[0])\n",
    "    print()\n"
   ]
  },
  {
   "cell_type": "code",
   "execution_count": null,
   "metadata": {
    "collapsed": true
   },
   "outputs": [],
   "source": []
  },
  {
   "cell_type": "markdown",
   "metadata": {},
   "source": [
    "<b> Useless Code </b>"
   ]
  },
  {
   "cell_type": "code",
   "execution_count": null,
   "metadata": {
    "collapsed": false
   },
   "outputs": [],
   "source": [
    "plt.figure(figsize=(20,10))\n",
    "df.plot(x=\"Aboard\",y=\"Fatalities\")"
   ]
  },
  {
   "cell_type": "code",
   "execution_count": null,
   "metadata": {
    "collapsed": false
   },
   "outputs": [],
   "source": [
    "plt.figure(figsize=(20,10))\n",
    "x,y = [],[]\n",
    "x.append (df.Aboard)\n",
    "y.append (df.Fatalities)\n",
    "fig = plt.figure()\n",
    "ax = fig.add_subplot(111)\n",
    "ax.plot(y,x,'o-')\n",
    "plt.show()"
   ]
  },
  {
   "cell_type": "code",
   "execution_count": null,
   "metadata": {
    "collapsed": false
   },
   "outputs": [],
   "source": [
    "import matplotlib.pyplot as plt\n",
    "plt.scatter(df['Aboard'], df['Fatalities'])"
   ]
  },
  {
   "cell_type": "code",
   "execution_count": null,
   "metadata": {
    "collapsed": false
   },
   "outputs": [],
   "source": [
    "df.plot(x='Aboard', y='Fatalities', marker='.')"
   ]
  },
  {
   "cell_type": "markdown",
   "metadata": {},
   "source": []
  },
  {
   "cell_type": "code",
   "execution_count": null,
   "metadata": {
    "collapsed": false
   },
   "outputs": [],
   "source": []
  },
  {
   "cell_type": "markdown",
   "metadata": {},
   "source": [
    "\n",
    " "
   ]
  },
  {
   "cell_type": "code",
   "execution_count": null,
   "metadata": {
    "collapsed": true
   },
   "outputs": [],
   "source": []
  }
 ],
 "metadata": {
  "anaconda-cloud": {},
  "kernelspec": {
   "display_name": "Python [Root]",
   "language": "python",
   "name": "Python [Root]"
  },
  "language_info": {
   "codemirror_mode": {
    "name": "ipython",
    "version": 2
   },
   "file_extension": ".py",
   "mimetype": "text/x-python",
   "name": "python",
   "nbconvert_exporter": "python",
   "pygments_lexer": "ipython2",
   "version": "2.7.12"
  }
 },
 "nbformat": 4,
 "nbformat_minor": 0
}
